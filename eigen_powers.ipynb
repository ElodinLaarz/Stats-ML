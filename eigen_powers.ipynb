{
 "cells": [
  {
   "cell_type": "code",
   "execution_count": 22,
   "metadata": {
    "collapsed": false
   },
   "outputs": [
    {
     "name": "stdout",
     "output_type": "stream",
     "text": [
      "We started with the random vector [2.885 0.154 1.126].\n"
     ]
    },
    {
     "name": "stdout",
     "output_type": "stream",
     "text": [
      "The vector v = [1. 0. 0.] has \"eigenvalue\" lambda = 2.0\n",
      "Av = [2. 0. 0.] and lambda v = [2. 0. 0.].\n"
     ]
    }
   ],
   "source": [
    "import numpy as np\n",
    "\n",
    "np.set_printoptions(precision=3)\n",
    "\n",
    "v = np.array(np.random.normal(size=3))\n",
    "print(f'We started with the random vector {v}.')\n",
    "A = np.array(np.mat('2 2 3; 0 1 1; 0 0 0'))\n",
    "\n",
    "N = 10000\n",
    "\n",
    "for i in range(N):\n",
    "    z = A.dot(v)\n",
    "    v = z/np.linalg.norm(z)\n",
    "    l = (v.dot(A)).dot(v)\n",
    "print(f'The vector v = {v} has \"eigenvalue\" lambda = {l}')\n",
    "print(f'Av = {A.dot(v)} and lambda v = {l*v}.')"
   ]
  },
  {
   "cell_type": "code",
   "execution_count": 0,
   "metadata": {
    "collapsed": false
   },
   "outputs": [
   ],
   "source": [
   ]
  }
 ],
 "metadata": {
  "kernelspec": {
   "display_name": "SageMath (Development, Py3)",
   "language": "sagemath",
   "metadata": {
    "cocalc": {
     "description": "Open-source mathematical software system",
     "priority": -1,
     "url": "https://www.sagemath.org/"
    }
   },
   "name": "sage-develop"
  },
  "language_info": {
   "codemirror_mode": {
    "name": "ipython",
    "version": 3
   },
   "file_extension": ".py",
   "mimetype": "text/x-python",
   "name": "python",
   "nbconvert_exporter": "python",
   "pygments_lexer": "ipython3",
   "version": "3.7.3"
  }
 },
 "nbformat": 4,
 "nbformat_minor": 0
}